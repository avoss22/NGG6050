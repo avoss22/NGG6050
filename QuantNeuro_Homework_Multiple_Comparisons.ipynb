{
  "nbformat": 4,
  "nbformat_minor": 0,
  "metadata": {
    "colab": {
      "provenance": [],
      "authorship_tag": "ABX9TyNPeYgkhgQvVKSd9VWIRW+K",
      "include_colab_link": true
    },
    "kernelspec": {
      "name": "python3",
      "display_name": "Python 3"
    },
    "language_info": {
      "name": "python"
    }
  },
  "cells": [
    {
      "cell_type": "markdown",
      "metadata": {
        "id": "view-in-github",
        "colab_type": "text"
      },
      "source": [
        "<a href=\"https://colab.research.google.com/github/avoss22/NGG6050/blob/main/QuantNeuro_Homework_Multiple_Comparisons.ipynb\" target=\"_parent\"><img src=\"https://colab.research.google.com/assets/colab-badge.svg\" alt=\"Open In Colab\"/></a>"
      ]
    },
    {
      "cell_type": "markdown",
      "source": [
        "# QuantNeuro Homework: Multiple Comparisons\n",
        "\n",
        "Anna Voss\n",
        "\n",
        "Due: 9-22-23\n",
        "\n",
        "In this exercise we will run through an example of correcting for multiple comparisons with both the Benjamini-Hochberg procedure and the more conservative Bonferroni correction.\n",
        "\n",
        "First, simulate multiple (say, 1000) t-tests comparing two samples with equal means and standard deviations, and save the p-values. Obviously, at p<0.05 we expect that ~5% of the simulations to yield a \"statistically significant\" result (of rejecting the NULL hypothesis that the samples come from distributions with equal means)."
      ],
      "metadata": {
        "id": "b1CCXuxqwGIF"
      }
    },
    {
      "cell_type": "code",
      "execution_count": 2,
      "metadata": {
        "colab": {
          "base_uri": "https://localhost:8080/"
        },
        "id": "aHeAdD29vPCs",
        "outputId": "b62a7630-9a89-4209-fee4-e0a6ef6f44cb"
      },
      "outputs": [
        {
          "output_type": "stream",
          "name": "stdout",
          "text": [
            "Proportion of significant results: 0.0500\n"
          ]
        }
      ],
      "source": [
        "import numpy as np\n",
        "from scipy.stats import ttest_ind\n",
        "import random\n",
        "\n",
        "random.seed(10)\n",
        "\n",
        "# Set the parameters\n",
        "sample_size = 30  # Size of each sample\n",
        "num_simulations = 1000  # Number of simulations\n",
        "alpha = 0.05  # Significance level\n",
        "\n",
        "# Empty array to store the p-values\n",
        "p_values = np.empty(num_simulations)\n",
        "\n",
        "# Perform the simulations\n",
        "for i in range(num_simulations):\n",
        "    # Generate two random samples with equal means and standard deviations\n",
        "    sample1 = np.random.normal(0, 1, sample_size)\n",
        "    sample2 = np.random.normal(0, 1, sample_size)\n",
        "\n",
        "    # Perform a t-test\n",
        "    t_stat, p_value = ttest_ind(sample1, sample2)\n",
        "\n",
        "    # Store the p-value\n",
        "    p_values[i] = p_value\n",
        "\n",
        "# Count how many p-values are less than alpha\n",
        "significant_count = np.sum(p_values < alpha)\n",
        "\n",
        "# Calculate the proportion of significant results\n",
        "proportion_significant = significant_count / num_simulations\n",
        "\n",
        "print(f\"Proportion of significant results: {proportion_significant:.4f}\")\n",
        "\n"
      ]
    },
    {
      "cell_type": "markdown",
      "source": [
        "Second, once you have the simulated p-values, apply both methods to address the multiple comparisons problem."
      ],
      "metadata": {
        "id": "QH_TiUur7Cu8"
      }
    },
    {
      "cell_type": "code",
      "source": [
        "#Bonferonni Correction\n",
        "\n",
        "alpha_corrected = alpha / num_simulations\n",
        "significant_bonferroni = np.sum(p_values < alpha_corrected)\n",
        "# Calculate the proportion of significant results\n",
        "proportion_significant = significant_bonferroni / num_simulations\n",
        "print(f\"Bonferonni alpha corrected: {alpha_corrected:.5f}\")\n",
        "print(f\"Significant Bonferroni: {significant_bonferroni}\")\n",
        "print(f\"Proportion Bonferonni significant: {proportion_significant}\")\n",
        "\n",
        "\n",
        "#Built in function that does the same thing\n",
        "from statsmodels.stats.multitest import multipletests\n",
        "rejected, p_adjusted, _, alpha_corrected = multipletests(p_values, alpha=alpha,\n",
        "                               method='bonferroni', is_sorted=False, returnsorted=False)\n",
        "\n",
        "#Readouts\n",
        "#np.sum(rejected)\n",
        "#alpha_corrected\n",
        "\n",
        "#Benjamini–Hochberg procedure\n",
        "\n",
        "# Sort the p-values in ascending order\n",
        "sorted_p_values = np.sort(p_values)\n",
        "\n",
        "# Calculate the Benjamini-Hochberg critical values\n",
        "num_tests = len(sorted_p_values)\n",
        "critical_values = [(i / num_tests) * alpha for i in range(1, num_tests + 1)]\n",
        "\n",
        "# Find the largest p-value that is less than or equal to the critical value\n",
        "significant_count = np.sum(sorted_p_values <= critical_values)\n",
        "\n",
        "# Calculate the proportion of significant results\n",
        "proportion_significant = significant_count / num_simulations\n",
        "\n",
        "print(f\"Proportion of Benjamini-Hochberg significant results: {proportion_significant}\")"
      ],
      "metadata": {
        "colab": {
          "base_uri": "https://localhost:8080/"
        },
        "id": "bye5RirC7EHX",
        "outputId": "5cf766e6-2c74-407b-9205-6cb9434edf2c"
      },
      "execution_count": 27,
      "outputs": [
        {
          "output_type": "stream",
          "name": "stdout",
          "text": [
            "Bonferonni alpha corrected: 0.00005\n",
            "Significant Bonferroni: 0\n",
            "Proportion Bonferonni significant: 0.0\n",
            "Proportion of Benjamini-Hochberg significant results: 0.0\n"
          ]
        }
      ]
    },
    {
      "cell_type": "markdown",
      "source": [
        "Third, set the sample 1 and sample 2 means to be 1 and 2 respectively, and re-run the exercise. What do you notice? What if you make the difference between means even greater?"
      ],
      "metadata": {
        "id": "uBpbnjDnBKuQ"
      }
    },
    {
      "cell_type": "code",
      "source": [
        "# Set the parameters\n",
        "sample_size = 30  # Size of each sample\n",
        "num_simulations = 1000  # Number of simulations\n",
        "alpha = 0.05  # Significance level\n",
        "\n",
        "# Empty array to store the p-values\n",
        "p_values = np.empty(num_simulations)\n",
        "\n",
        "# Perform the simulations\n",
        "for i in range(num_simulations):\n",
        "    # Generate two random samples with equal means and standard deviations\n",
        "    sample1 = np.random.normal(1, 1, sample_size)\n",
        "    sample2 = np.random.normal(2, 1, sample_size)\n",
        "\n",
        "    # Perform a t-test\n",
        "    t_stat, p_value = ttest_ind(sample1, sample2)\n",
        "\n",
        "    # Store the p-value\n",
        "    p_values[i] = p_value\n",
        "\n",
        "# Count how many p-values are less than alpha\n",
        "significant_count = np.sum(p_values < alpha)\n",
        "\n",
        "# Calculate the proportion of significant results\n",
        "proportion_significant = significant_count / num_simulations\n",
        "\n",
        "print(f\"Proportion of significant results: {proportion_significant:.4f}\")\n",
        "\n",
        "#Bonferonni\n",
        "from statsmodels.stats.multitest import multipletests\n",
        "rejected, p_adjusted, _, alpha_corrected = multipletests(p_values, alpha=alpha,\n",
        "                               method='bonferroni', is_sorted=False, returnsorted=False)\n",
        "significant_bonferroni = np.sum(rejected)\n",
        "print(f\"Significant Bonferroni: {significant_bonferroni}\")\n",
        "\n",
        "#Benjamini–Hochberg\n",
        "rejected, p_adjusted, _, alpha_corrected = multipletests(p_values, alpha=0.05, method='fdr_bh', maxiter=1, is_sorted=False, returnsorted=False)\n",
        "significant_bh = np.sum(rejected)\n",
        "print(f\"Significant Benjamini–Hochbergi: {significant_bh}\")\n"
      ],
      "metadata": {
        "colab": {
          "base_uri": "https://localhost:8080/"
        },
        "id": "orxbJCVpBMdr",
        "outputId": "c121b2db-fbe0-4578-a6bf-53d3484af1f7"
      },
      "execution_count": 32,
      "outputs": [
        {
          "output_type": "stream",
          "name": "stdout",
          "text": [
            "Proportion of significant results: 0.9600\n",
            "Significant Bonferroni: 312\n",
            "Significant Benjamini–Hochbergi: 959\n"
          ]
        }
      ]
    },
    {
      "cell_type": "markdown",
      "source": [
        "Changing the samples means increases the number of significant p values following both Bonferroni and Behamini-Hochbergi correction."
      ],
      "metadata": {
        "id": "pdqZQFyDTefU"
      }
    },
    {
      "cell_type": "markdown",
      "source": [
        "Increase the difference between means"
      ],
      "metadata": {
        "id": "JaU-uNAqTyvk"
      }
    },
    {
      "cell_type": "code",
      "source": [
        "# Set the parameters\n",
        "sample_size = 30  # Size of each sample\n",
        "num_simulations = 1000  # Number of simulations\n",
        "alpha = 0.05  # Significance level\n",
        "\n",
        "# Empty array to store the p-values\n",
        "p_values = np.empty(num_simulations)\n",
        "\n",
        "# Perform the simulations\n",
        "for i in range(num_simulations):\n",
        "    # Generate two random samples with equal means and standard deviations\n",
        "    sample1 = np.random.normal(1, 1, sample_size)\n",
        "    sample2 = np.random.normal(10, 1, sample_size)\n",
        "\n",
        "    # Perform a t-test\n",
        "    t_stat, p_value = ttest_ind(sample1, sample2)\n",
        "\n",
        "    # Store the p-value\n",
        "    p_values[i] = p_value\n",
        "\n",
        "# Count how many p-values are less than alpha\n",
        "significant_count = np.sum(p_values < alpha)\n",
        "\n",
        "# Calculate the proportion of significant results\n",
        "proportion_significant = significant_count / num_simulations\n",
        "\n",
        "print(f\"Proportion of significant results: {proportion_significant:.4f}\")\n",
        "\n",
        "#Bonferonni\n",
        "from statsmodels.stats.multitest import multipletests\n",
        "rejected, p_adjusted, _, alpha_corrected = multipletests(p_values, alpha=alpha,\n",
        "                               method='bonferroni', is_sorted=False, returnsorted=False)\n",
        "significant_bonferroni = np.sum(rejected)\n",
        "print(f\"Significant Bonferroni: {significant_bonferroni}\")\n",
        "\n",
        "#Benjamini–Hochberg\n",
        "rejected, p_adjusted, _, alpha_corrected = multipletests(p_values, alpha=0.05, method='fdr_bh', maxiter=1, is_sorted=False, returnsorted=False)\n",
        "significant_bh = np.sum(rejected)\n",
        "print(f\"Significant Benjamini–Hochbergi: {significant_bh}\")"
      ],
      "metadata": {
        "colab": {
          "base_uri": "https://localhost:8080/"
        },
        "id": "9WOZpDVLTvfC",
        "outputId": "8681d921-2ace-42c8-a7e2-9e144d0e1043"
      },
      "execution_count": 3,
      "outputs": [
        {
          "output_type": "stream",
          "name": "stdout",
          "text": [
            "Proportion of significant results: 1.0000\n",
            "Significant Bonferroni: 1000\n",
            "Significant Benjamini–Hochbergi: 1000\n"
          ]
        }
      ]
    },
    {
      "cell_type": "markdown",
      "source": [
        "When the means differ by a factor of 10, all of the p values are significant at the alpha = 0.05 level following both Bonferroni and Benjamini-Hochberg correction."
      ],
      "metadata": {
        "id": "gUOFbjBeUAKy"
      }
    }
  ]
}